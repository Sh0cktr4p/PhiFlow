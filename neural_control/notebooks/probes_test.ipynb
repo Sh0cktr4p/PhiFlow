{
 "metadata": {
  "language_info": {
   "codemirror_mode": {
    "name": "ipython",
    "version": 3
   },
   "file_extension": ".py",
   "mimetype": "text/x-python",
   "name": "python",
   "nbconvert_exporter": "python",
   "pygments_lexer": "ipython3",
   "version": "3.7.10"
  },
  "orig_nbformat": 2,
  "kernelspec": {
   "name": "python3710jvsc74a57bd0b1193b99df97999c53b313329e52e9807a8face7c24970cb7072af03422b5c2b",
   "display_name": "Python 3.7.10 64-bit ('phiflow2')"
  },
  "metadata": {
   "interpreter": {
    "hash": "b1193b99df97999c53b313329e52e9807a8face7c24970cb7072af03422b5c2b"
   }
  }
 },
 "nbformat": 4,
 "nbformat_minor": 2,
 "cells": [
  {
   "cell_type": "code",
   "execution_count": 57,
   "metadata": {},
   "outputs": [],
   "source": [
    "from phi.flow import *\n",
    "from plotter import Plotter\n",
    "import numpy as np \n",
    "import matplotlib.pyplot as plt\n",
    "import matplotlib \n"
   ]
  },
  {
   "cell_type": "code",
   "execution_count": 58,
   "metadata": {},
   "outputs": [],
   "source": [
    "p = Plotter()\n",
    "grid = Domain(x=30, y=30, boundaries=OPEN, bounds=Box[0:30,0:30])\n",
    "box = Box[3:6, 3:6]\n",
    "mask = HardGeometryMask(box) >> grid.scalar_grid()\n",
    "[x,y] = np.array([values.numpy() for values in mask.points.values.unstack_spatial('x')[0].unstack('vector')])\n",
    "z = mask.values.numpy().transpose()"
   ]
  },
  {
   "source": [
    "def create_probes(center, distance_i, width, n, m):\n",
    "\n",
    "    x0 = np.linspace(distance_i, distance_i+width, n)    \n",
    "    points = []\n",
    "    for row in range(n): \n",
    "        x_row = np.linspace(-x0[row], x0[row], m)\n",
    "        y_row = np.linspace(-y0[row], x0[row], m)\n",
    "        X,Y = np.meshgrid(x_row, y_row)\n",
    "        points += [x,y for x,y in zip(X,Y)]    \n",
    "\n",
    "    return points\n",
    "    \n",
    "probes = create_probes([4.5, 4.5], 3, 3, 2, 2)\n",
    "\n",
    "\n"
   ],
   "cell_type": "code",
   "metadata": {},
   "execution_count": 2,
   "outputs": [
    {
     "output_type": "error",
     "ename": "IndentationError",
     "evalue": "expected an indented block (<ipython-input-2-83a6b5017095>, line 7)",
     "traceback": [
      "\u001b[0;36m  File \u001b[0;32m\"<ipython-input-2-83a6b5017095>\"\u001b[0;36m, line \u001b[0;32m7\u001b[0m\n\u001b[0;31m    X,Y = np.meshgrid(x*2,y*2)\u001b[0m\n\u001b[0m    ^\u001b[0m\n\u001b[0;31mIndentationError\u001b[0m\u001b[0;31m:\u001b[0m expected an indented block\n"
     ]
    }
   ]
  },
  {
   "cell_type": "code",
   "execution_count": 50,
   "metadata": {},
   "outputs": [],
   "source": [
    "fig, ax = plt.subplots(1)\n",
    "ax.scatter(x,y)\n",
    "ax.scatter(x,y,10*(z>0.5),'r')\n",
    "x_probes  = [x[0] for x in probes]\n",
    "y_probes  = [x[1] for x in probes]\n",
    "ax.scatter(x_probes, y_probes, 20, color='k', marker='x')\n",
    "plt.show(block=True)"
   ]
  },
  {
   "cell_type": "code",
   "execution_count": null,
   "metadata": {},
   "outputs": [],
   "source": []
  }
 ]
}